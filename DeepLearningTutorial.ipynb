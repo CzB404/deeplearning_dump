{
 "cells": [
  {
   "cell_type": "markdown",
   "metadata": {},
   "source": [
    "# Deep Learning Tutorial\n",
    "\n",
    "Original code taken from\n",
    "\"Deep learning – Convolutional neural networks and feature extraction with Python\"\n",
    "by Christian S. Perone\n",
    "http://blog.christianperone.com/2015/08/convolutional-neural-networks-and-feature-extraction-with-python/\n",
    "\n",
    "Learning Material:\n",
    "http://cs231n.github.io/\n",
    "\n",
    "Change notes:\n",
    "- Updated for Python3\n",
    "- Changed iteration model to Adam, lowered step size\n",
    "- Changed convolution padding to preserve output dimensions\n",
    "- Changed architecture to instead use multiple 3×3 filters"
   ]
  },
  {
   "cell_type": "markdown",
   "metadata": {},
   "source": [
    "## 0. Initialization"
   ]
  },
  {
   "cell_type": "markdown",
   "metadata": {},
   "source": [
    "### 0.0. Library imports"
   ]
  },
  {
   "cell_type": "code",
   "execution_count": 1,
   "metadata": {},
   "outputs": [
    {
     "name": "stderr",
     "output_type": "stream",
     "text": [
      "Using cuDNN version 6021 on context None\n",
      "Mapped name None to device cuda0: GeForce GTX 1060 6GB (0000:01:00.0)\n"
     ]
    }
   ],
   "source": [
    "import matplotlib\n",
    "import matplotlib.pyplot as plt\n",
    "import matplotlib.cm as cm\n",
    "from urllib.request import urlretrieve\n",
    "import _pickle as pickle\n",
    "import os\n",
    "import gzip\n",
    "import numpy as np\n",
    "import theano\n",
    "import lasagne\n",
    "from lasagne import layers\n",
    "from lasagne.updates import nesterov_momentum\n",
    "from lasagne.updates import adam\n",
    "from nolearn.lasagne import NeuralNet\n",
    "from nolearn.lasagne import visualize\n",
    "from sklearn.metrics import classification_report\n",
    "from sklearn.metrics import confusion_matrix\n",
    "%matplotlib inline"
   ]
  },
  {
   "cell_type": "markdown",
   "metadata": {},
   "source": [
    "### 0.1. MINST Dataset loading function"
   ]
  },
  {
   "cell_type": "code",
   "execution_count": 2,
   "metadata": {
    "collapsed": true
   },
   "outputs": [],
   "source": [
    "def load_dataset():\n",
    "    url = 'http://deeplearning.net/data/mnist/mnist.pkl.gz'\n",
    "    filename = 'mnist.pkl.gz'\n",
    "    if not os.path.exists(filename):\n",
    "        print(\"Downloading MNIST dataset...\")\n",
    "        urlretrieve(url, filename)\n",
    "    with gzip.open(filename, 'rb') as f:\n",
    "        data = pickle.load(f, encoding='latin1')\n",
    "    X_train, y_train = data[0]\n",
    "    X_val, y_val = data[1]\n",
    "    X_test, y_test = data[2]\n",
    "    X_train = X_train.reshape((-1, 1, 28, 28))\n",
    "    X_val = X_val.reshape((-1, 1, 28, 28))\n",
    "    X_test = X_test.reshape((-1, 1, 28, 28))\n",
    "    y_train = y_train.astype(np.uint8)\n",
    "    y_val = y_val.astype(np.uint8)\n",
    "    y_test = y_test.astype(np.uint8)\n",
    "    return X_train, y_train, X_val, y_val, X_test, y_test"
   ]
  },
  {
   "cell_type": "markdown",
   "metadata": {},
   "source": [
    "### 0.2. Load dataset\n",
    "And preview an item."
   ]
  },
  {
   "cell_type": "code",
   "execution_count": 3,
   "metadata": {},
   "outputs": [
    {
     "data": {
      "image/png": "[encoded data removed]",
      "text/plain": [
       "<matplotlib.figure.Figure at 0x7f2650d1d828>"
      ]
     },
     "metadata": {},
     "output_type": "display_data"
    }
   ],
   "source": [
    "X_train, y_train, X_val, y_val, X_test, y_test = load_dataset()\n",
    "plt.imshow(X_train[0][0], cmap=cm.binary)\n",
    "plt.show()"
   ]
  },
  {
   "cell_type": "markdown",
   "metadata": {},
   "source": [
    "## 1. ConvNet Architecture and Training"
   ]
  },
  {
   "cell_type": "markdown",
   "metadata": {},
   "source": [
    "### 1.1. Define the CNN"
   ]
  },
  {
   "cell_type": "code",
   "execution_count": 4,
   "metadata": {
    "collapsed": true
   },
   "outputs": [],
   "source": [
    "net1 = NeuralNet(\n",
    "    layers=[('input', layers.InputLayer),\n",
    "            ('conv2d1a', layers.Conv2DLayer), # Added to swap 5x5 filters with two 3x3 filters\n",
    "            ('conv2d1', layers.Conv2DLayer),\n",
    "            ('maxpool1', layers.MaxPool2DLayer),\n",
    "            ('conv2d2a', layers.Conv2DLayer),\n",
    "            ('conv2d2', layers.Conv2DLayer),\n",
    "            ('maxpool2', layers.MaxPool2DLayer),\n",
    "            ('dropout1', layers.DropoutLayer),\n",
    "            ('dense', layers.DenseLayer),\n",
    "            ('dropout2', layers.DropoutLayer),\n",
    "            ('output', layers.DenseLayer),\n",
    "            ],\n",
    "    # input layer\n",
    "    input_shape=(None, 1, 28, 28),\n",
    "    # layer conv2d1a\n",
    "    conv2d1a_num_filters=8,\n",
    "    conv2d1a_pad='same', # Pad input with zeroes for same size output\n",
    "    conv2d1a_filter_size=(3, 3),\n",
    "    conv2d1a_nonlinearity=lasagne.nonlinearities.rectify,\n",
    "    conv2d1a_W=lasagne.init.GlorotUniform(),  \n",
    "    # layer conv2d1\n",
    "    conv2d1_num_filters=4,\n",
    "    conv2d1_pad='same', # Pad input with zeroes for same size output\n",
    "    conv2d1_filter_size=(3, 3),\n",
    "    conv2d1_nonlinearity=lasagne.nonlinearities.rectify,\n",
    "    # layer maxpool1\n",
    "    maxpool1_pool_size=(2, 2),    \n",
    "    # layer conv2d2a\n",
    "    conv2d2a_num_filters=8,\n",
    "    conv2d2a_filter_size=(3, 3),\n",
    "    conv2d2a_pad='same', # Pad input with zeroes for same size output\n",
    "    conv2d2a_nonlinearity=lasagne.nonlinearities.rectify,\n",
    "    # layer conv2d2\n",
    "    conv2d2_num_filters=4,\n",
    "    conv2d2_filter_size=(3, 3),\n",
    "    conv2d2_pad='same', # Pad input with zeroes for same size output\n",
    "    conv2d2_nonlinearity=lasagne.nonlinearities.rectify,\n",
    "    # layer maxpool2\n",
    "    maxpool2_pool_size=(2, 2),\n",
    "    # dropout1\n",
    "    dropout1_p=0.5,    \n",
    "    # dense\n",
    "    dense_num_units=256,\n",
    "    dense_nonlinearity=lasagne.nonlinearities.rectify,    \n",
    "    # dropout2\n",
    "    dropout2_p=0.5,    \n",
    "    # output\n",
    "    output_nonlinearity=lasagne.nonlinearities.softmax,\n",
    "    output_num_units=10,\n",
    "    # optimization method params\n",
    "    # original config in comments\n",
    "    update=adam, # nesterov_momentum,\n",
    "    update_learning_rate=0.001, # 0.01,\n",
    "    # Adam doesn't need update_momentum\n",
    "    # update_momentum=0.9,\n",
    "    max_epochs=10,\n",
    "    verbose=1,\n",
    "    )"
   ]
  },
  {
   "cell_type": "markdown",
   "metadata": {},
   "source": [
    "### 1.2. Perform fitting/training"
   ]
  },
  {
   "cell_type": "code",
   "execution_count": 5,
   "metadata": {
    "scrolled": false
   },
   "outputs": [
    {
     "name": "stdout",
     "output_type": "stream",
     "text": [
      "# Neural Network with 53962 learnable parameters\n",
      "\n",
      "## Layer information\n",
      "\n",
      "  #  name      size\n",
      "---  --------  -------\n",
      "  0  input     1x28x28\n",
      "  1  conv2d1a  8x28x28\n",
      "  2  conv2d1   4x28x28\n",
      "  3  maxpool1  4x14x14\n",
      "  4  conv2d2a  8x14x14\n",
      "  5  conv2d2   4x14x14\n",
      "  6  maxpool2  4x7x7\n",
      "  7  dropout1  4x7x7\n",
      "  8  dense     256\n",
      "  9  dropout2  256\n",
      " 10  output    10\n",
      "\n",
      "  epoch    trn loss    val loss    trn/val    valid acc  dur\n",
      "-------  ----------  ----------  ---------  -----------  -----\n",
      "      1     \u001b[36m0.92393\u001b[0m     \u001b[32m0.24149\u001b[0m    3.82586      0.93203  8.96s\n",
      "      2     \u001b[36m0.44941\u001b[0m     \u001b[32m0.17588\u001b[0m    2.55521      0.94963  8.79s\n",
      "      3     \u001b[36m0.34548\u001b[0m     \u001b[32m0.13605\u001b[0m    2.53935      0.96072  8.75s\n",
      "      4     \u001b[36m0.30308\u001b[0m     \u001b[32m0.11709\u001b[0m    2.58842      0.96592  8.80s\n",
      "      5     \u001b[36m0.26336\u001b[0m     \u001b[32m0.10418\u001b[0m    2.52805      0.96942  8.68s\n",
      "      6     \u001b[36m0.24294\u001b[0m     \u001b[32m0.09475\u001b[0m    2.56400      0.97291  8.57s\n",
      "      7     \u001b[36m0.22392\u001b[0m     \u001b[32m0.08217\u001b[0m    2.72510      0.97621  8.61s\n",
      "      8     \u001b[36m0.20555\u001b[0m     \u001b[32m0.08031\u001b[0m    2.55933      0.97711  8.75s\n",
      "      9     \u001b[36m0.19448\u001b[0m     \u001b[32m0.07372\u001b[0m    2.63797      0.97871  8.92s\n",
      "     10     \u001b[36m0.18766\u001b[0m     \u001b[32m0.07318\u001b[0m    2.56435      0.97911  8.87s\n"
     ]
    }
   ],
   "source": [
    "# Train the network\n",
    "paramFile = 'convNetParams'\n",
    "trainAnyway = True\n",
    "if not os.path.exists(paramFile) or trainAnyway:\n",
    "    nn = net1.fit(X_train, y_train)\n",
    "    net1.save_params_to(paramFile)\n",
    "else:\n",
    "    try:\n",
    "        net1.load_params_from(paramFile)\n",
    "    except Exception:\n",
    "        nn = net1.fit(X_train, y_train)\n",
    "        net1.save_params_to(paramFile)"
   ]
  },
  {
   "cell_type": "code",
   "execution_count": 6,
   "metadata": {
    "collapsed": true
   },
   "outputs": [],
   "source": [
    "def get_history(nnet):\n",
    "    history = net1.train_history_\n",
    "    T = len(history)\n",
    "    epochs = np.zeros(T)\n",
    "    durs = np.zeros(T)\n",
    "    tr_loss = np.zeros(T)\n",
    "    va_loss = np.zeros(T)\n",
    "    va_acc = np.zeros(T)\n",
    "    for k in range(T):\n",
    "        epochs[k] = history[k]['epoch']\n",
    "        durs[k] = history[k]['dur']\n",
    "        tr_loss[k] = history[k]['train_loss']\n",
    "        va_loss[k] = history[k]['valid_loss']\n",
    "        va_acc[k] = history[k]['valid_accuracy']\n",
    "    \n",
    "    return va_loss, tr_loss, va_acc, durs, epochs"
   ]
  },
  {
   "cell_type": "code",
   "execution_count": 7,
   "metadata": {
    "collapsed": true
   },
   "outputs": [],
   "source": [
    "va_loss, tr_loss, va_acc, durs, epochs = get_history(net1)"
   ]
  },
  {
   "cell_type": "code",
   "execution_count": 8,
   "metadata": {},
   "outputs": [
    {
     "data": {
      "image/png": "[encoded data removed]",
      "text/plain": [
       "<matplotlib.figure.Figure at 0x7f2624aff9e8>"
      ]
     },
     "metadata": {},
     "output_type": "display_data"
    }
   ],
   "source": [
    "plt.figure(figsize=(12,8))\n",
    "plt.plot(epochs,va_loss,'o-')\n",
    "plt.plot(epochs,tr_loss,'s-')\n",
    "plt.ylabel(\"Loss\")\n",
    "plt.title(\"Loss over epochs\")\n",
    "plt.xlabel(\"Epoch\")\n",
    "plt.legend([\"Validation loss\",\"Training loss\"])\n",
    "plt.grid()\n",
    "plt.show()"
   ]
  },
  {
   "cell_type": "markdown",
   "metadata": {},
   "source": [
    "### 1.3. Prediction and Confusion Matrix"
   ]
  },
  {
   "cell_type": "code",
   "execution_count": 9,
   "metadata": {
    "collapsed": true
   },
   "outputs": [],
   "source": [
    "# Predict test dataset\n",
    "preds = net1.predict(X_test)"
   ]
  },
  {
   "cell_type": "code",
   "execution_count": 10,
   "metadata": {},
   "outputs": [
    {
     "data": {
      "image/png": "[encoded data removed]",
      "text/plain": [
       "<matplotlib.figure.Figure at 0x7f261b343c50>"
      ]
     },
     "metadata": {},
     "output_type": "display_data"
    }
   ],
   "source": [
    "confmat = np.log10(confusion_matrix(y_test, preds)+1)\n",
    "plt.figure(figsize=(8,8))\n",
    "plt.matshow(confmat, fignum=1)\n",
    "plt.title('Logarithmic Confusion matrix')\n",
    "plt.colorbar()\n",
    "plt.ylabel('True label')\n",
    "plt.xlabel('Predicted label')\n",
    "plt.show()"
   ]
  },
  {
   "cell_type": "code",
   "execution_count": 11,
   "metadata": {
    "scrolled": true
   },
   "outputs": [
    {
     "name": "stdout",
     "output_type": "stream",
     "text": [
      "Classification report\n",
      "             precision    recall  f1-score   support\n",
      "\n",
      "          0       0.99      0.98      0.99       980\n",
      "          1       0.99      0.99      0.99      1135\n",
      "          2       0.97      0.99      0.98      1032\n",
      "          3       0.97      0.99      0.98      1010\n",
      "          4       0.99      0.99      0.99       982\n",
      "          5       0.98      0.99      0.99       892\n",
      "          6       0.99      0.99      0.99       958\n",
      "          7       0.98      0.96      0.97      1028\n",
      "          8       0.97      0.98      0.97       974\n",
      "          9       0.98      0.96      0.97      1009\n",
      "\n",
      "avg / total       0.98      0.98      0.98     10000\n",
      "\n"
     ]
    }
   ],
   "source": [
    "# Classification report was imported, but not used\n",
    "print(\"Classification report\")\n",
    "print(classification_report(y_test, preds, target_names=[str(x) for x in range(10)]))"
   ]
  },
  {
   "cell_type": "markdown",
   "metadata": {},
   "source": [
    "## 2. Inside the network"
   ]
  },
  {
   "cell_type": "markdown",
   "metadata": {},
   "source": [
    "Plot of filter weights"
   ]
  },
  {
   "cell_type": "code",
   "execution_count": 12,
   "metadata": {
    "scrolled": false
   },
   "outputs": [
    {
     "data": {
      "image/png": "[encoded data removed]",
      "text/plain": [
       "<matplotlib.figure.Figure at 0x7f2624aff0b8>"
      ]
     },
     "metadata": {},
     "output_type": "display_data"
    }
   ],
   "source": [
    "visualize.plot_conv_weights(net1.layers_['conv2d1a'])\n",
    "plt.show()"
   ]
  },
  {
   "cell_type": "markdown",
   "metadata": {},
   "source": [
    "### 2.0. Define input object"
   ]
  },
  {
   "cell_type": "code",
   "execution_count": 13,
   "metadata": {},
   "outputs": [
    {
     "data": {
      "text/plain": [
       "theano.tensor.var.TensorVariable"
      ]
     },
     "execution_count": 13,
     "metadata": {},
     "output_type": "execute_result"
    }
   ],
   "source": [
    "# Need this as input object for defined functions\n",
    "input_var = net1.layers_['input'].input_var\n",
    "type(input_var)"
   ]
  },
  {
   "cell_type": "markdown",
   "metadata": {},
   "source": [
    "### 2.1. Define functions for layers"
   ]
  },
  {
   "cell_type": "code",
   "execution_count": 14,
   "metadata": {
    "collapsed": true
   },
   "outputs": [],
   "source": [
    "# Experimentation with 1st layer outputs\n",
    "conv2d1a_layer = layers.get_output(net1.layers_['conv2d1a'], deterministic=True)\n",
    "conv2d1_layer = layers.get_output(net1.layers_['conv2d1'], deterministic=True)\n",
    "conv2d2a_layer = layers.get_output(net1.layers_['conv2d2a'], deterministic=True)\n",
    "conv2d2_layer = layers.get_output(net1.layers_['conv2d2'], deterministic=True)\n",
    "f_conv2d1a = theano.function([input_var], conv2d1a_layer)\n",
    "f_conv2d1 = theano.function([input_var], conv2d1_layer)\n",
    "f_conv2d2a = theano.function([input_var], conv2d2a_layer)\n",
    "f_conv2d2 = theano.function([input_var], conv2d2_layer)"
   ]
  },
  {
   "cell_type": "code",
   "execution_count": 15,
   "metadata": {
    "collapsed": true
   },
   "outputs": [],
   "source": [
    "# Original examples\n",
    "dense_layer = layers.get_output(net1.layers_['dense'], deterministic=True)\n",
    "output_layer = layers.get_output(net1.layers_['output'], deterministic=True)\n",
    "f_output = theano.function([input_var], output_layer)\n",
    "f_dense = theano.function([input_var], dense_layer)"
   ]
  },
  {
   "cell_type": "markdown",
   "metadata": {},
   "source": [
    "### 2.2. Test case"
   ]
  },
  {
   "cell_type": "code",
   "execution_count": 16,
   "metadata": {
    "collapsed": true
   },
   "outputs": [],
   "source": [
    "# Select test input\n",
    "idx=0 # index of test case in data\n",
    "instance = X_test[idx][None, :, :]\n",
    "actual_value = y_test[idx]"
   ]
  },
  {
   "cell_type": "code",
   "execution_count": 17,
   "metadata": {
    "collapsed": true
   },
   "outputs": [],
   "source": [
    "def load_external_image(file):\n",
    "    from scipy import misc\n",
    "    img = misc.imread(file,flatten=True)\n",
    "    img = misc.imresize(img,(28,28))\n",
    "    img = img.astype(np.float32)\n",
    "    img *= -1\n",
    "    img -= np.min(img)\n",
    "    img /= np.max(img)\n",
    "    img = img.reshape(1,1,28,28)\n",
    "    return img"
   ]
  },
  {
   "cell_type": "code",
   "execution_count": 18,
   "metadata": {
    "collapsed": true
   },
   "outputs": [],
   "source": [
    "test = load_external_image(\"test.png\")\n",
    "instance = test\n",
    "actual_value = 2"
   ]
  },
  {
   "cell_type": "code",
   "execution_count": 19,
   "metadata": {
    "scrolled": false
   },
   "outputs": [
    {
     "name": "stdout",
     "output_type": "stream",
     "text": [
      "500 loops, best of 3: 619 µs per loop\n"
     ]
    }
   ],
   "source": [
    "# Examine speed of entire trained network\n",
    "%timeit -n 500 f_output(instance)"
   ]
  },
  {
   "cell_type": "code",
   "execution_count": 20,
   "metadata": {},
   "outputs": [
    {
     "name": "stdout",
     "output_type": "stream",
     "text": [
      "500 loops, best of 3: 636 µs per loop\n"
     ]
    }
   ],
   "source": [
    "# Examine speed of entire trained network with nolearn's implementation\n",
    "%timeit -n 500 net1.predict_proba(instance)"
   ]
  },
  {
   "cell_type": "code",
   "execution_count": 21,
   "metadata": {},
   "outputs": [
    {
     "data": {
      "image/png": "[encoded data removed]",
      "text/plain": [
       "<matplotlib.figure.Figure at 0x7f261bed9a90>"
      ]
     },
     "metadata": {},
     "output_type": "display_data"
    }
   ],
   "source": [
    "# Examine test input\n",
    "plt.figure(figsize=None)\n",
    "plt.title(\"Test image\")\n",
    "plt.imshow(instance[0][0], cmap=cm.binary)\n",
    "plt.show()"
   ]
  },
  {
   "cell_type": "markdown",
   "metadata": {},
   "source": [
    "### 2.3. Plot 1st conv layer outputs"
   ]
  },
  {
   "cell_type": "code",
   "execution_count": 22,
   "metadata": {
    "collapsed": true
   },
   "outputs": [],
   "source": [
    "def plot_layer_outputs(layer_outputs):\n",
    "    plt.figure(figsize=(16,18))\n",
    "    for k in range(layer_outputs.shape[1]):\n",
    "        plt.subplot(6,6,k+1)\n",
    "        plt.title( \"Filter #\" + str(k+1) )\n",
    "        plt.imshow(layer_outputs[0,k], cmap=cm.binary)\n",
    "    plt.show()"
   ]
  },
  {
   "cell_type": "code",
   "execution_count": 23,
   "metadata": {},
   "outputs": [
    {
     "data": {
      "image/png": "[encoded data removed]",
      "text/plain": [
       "<matplotlib.figure.Figure at 0x7f261be7ac50>"
      ]
     },
     "metadata": {},
     "output_type": "display_data"
    }
   ],
   "source": [
    "predConv2d1a = f_conv2d1a(instance)\n",
    "plot_layer_outputs(predConv2d1a)"
   ]
  },
  {
   "cell_type": "code",
   "execution_count": 24,
   "metadata": {
    "scrolled": false
   },
   "outputs": [
    {
     "data": {
      "image/png": "[encoded data removed]",
      "text/plain": [
       "<matplotlib.figure.Figure at 0x7f261baa9b70>"
      ]
     },
     "metadata": {},
     "output_type": "display_data"
    }
   ],
   "source": [
    "predConv2d1 = f_conv2d1(instance)\n",
    "plot_layer_outputs(predConv2d1)"
   ]
  },
  {
   "cell_type": "markdown",
   "metadata": {},
   "source": [
    "### 2.4. Plot 2nd conv layer outputs"
   ]
  },
  {
   "cell_type": "code",
   "execution_count": 25,
   "metadata": {},
   "outputs": [
    {
     "data": {
      "image/png": "[encoded data removed]",
      "text/plain": [
       "<matplotlib.figure.Figure at 0x7f261b29ad30>"
      ]
     },
     "metadata": {},
     "output_type": "display_data"
    }
   ],
   "source": [
    "predConv2d2a = f_conv2d2a(instance)\n",
    "plot_layer_outputs(predConv2d2a)"
   ]
  },
  {
   "cell_type": "code",
   "execution_count": 26,
   "metadata": {},
   "outputs": [
    {
     "data": {
      "image/png": "[encoded data removed]",
      "text/plain": [
       "<matplotlib.figure.Figure at 0x7f261bedf978>"
      ]
     },
     "metadata": {},
     "output_type": "display_data"
    }
   ],
   "source": [
    "predConv2d2 = f_conv2d2(instance)\n",
    "plot_layer_outputs(predConv2d2)"
   ]
  },
  {
   "cell_type": "markdown",
   "metadata": {},
   "source": [
    "### 2.5. Plot dense layer output"
   ]
  },
  {
   "cell_type": "code",
   "execution_count": 27,
   "metadata": {
    "collapsed": true
   },
   "outputs": [],
   "source": [
    "def plot_layer_activation(layer_activation):\n",
    "    N = layer_activation.shape[1]\n",
    "    plt.figure(figsize=None)\n",
    "    plt.bar(range(N), layer_activation.ravel())\n",
    "    plt.show()"
   ]
  },
  {
   "cell_type": "code",
   "execution_count": 28,
   "metadata": {
    "scrolled": true
   },
   "outputs": [
    {
     "data": {
      "image/png": "[encoded data removed]",
      "text/plain": [
       "<matplotlib.figure.Figure at 0x7f261b6c4470>"
      ]
     },
     "metadata": {},
     "output_type": "display_data"
    }
   ],
   "source": [
    "predDense = f_dense(instance)\n",
    "plot_layer_activation(predDense)"
   ]
  },
  {
   "cell_type": "markdown",
   "metadata": {},
   "source": [
    "### 2.6. Plot output layer output"
   ]
  },
  {
   "cell_type": "code",
   "execution_count": 29,
   "metadata": {
    "scrolled": true
   },
   "outputs": [
    {
     "data": {
      "image/png": "[encoded data removed]",
      "text/plain": [
       "<matplotlib.figure.Figure at 0x7f261b639cc0>"
      ]
     },
     "metadata": {},
     "output_type": "display_data"
    }
   ],
   "source": [
    "pred = f_output(instance)\n",
    "plot_layer_activation(pred)"
   ]
  },
  {
   "cell_type": "markdown",
   "metadata": {},
   "source": [
    "### 2.7. Perform prediction"
   ]
  },
  {
   "cell_type": "code",
   "execution_count": 30,
   "metadata": {
    "scrolled": false
   },
   "outputs": [
    {
     "name": "stdout",
     "output_type": "stream",
     "text": [
      "Prediction: 2\n",
      "Actual value: 2\n"
     ]
    }
   ],
   "source": [
    "print(\"Prediction: %d\" % np.argmax(pred[0]))\n",
    "print(\"Actual value: %d\" % actual_value)"
   ]
  },
  {
   "cell_type": "code",
   "execution_count": null,
   "metadata": {
    "collapsed": true
   },
   "outputs": [],
   "source": []
  }
 ],
 "metadata": {
  "kernelspec": {
   "display_name": "Python 3",
   "language": "python",
   "name": "python3"
  },
  "language_info": {
   "codemirror_mode": {
    "name": "ipython",
    "version": 3
   },
   "file_extension": ".py",
   "mimetype": "text/x-python",
   "name": "python",
   "nbconvert_exporter": "python",
   "pygments_lexer": "ipython3",
   "version": "3.6.1"
  }
 },
 "nbformat": 4,
 "nbformat_minor": 2
}
