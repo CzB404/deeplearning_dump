{
 "cells": [
  {
   "cell_type": "markdown",
   "metadata": {},
   "source": [
    "Based on the notes from http://cs231n.github.io/"
   ]
  },
  {
   "cell_type": "markdown",
   "metadata": {},
   "source": [
    "#1 Image Classification: Data-driven Approach, k-Nearest Neighbor, train/val/test splits"
   ]
  },
  {
   "cell_type": "code",
   "execution_count": 1,
   "metadata": {
    "collapsed": true
   },
   "outputs": [],
   "source": [
    "import numpy as np\n",
    "import matplotlib.pyplot as plt\n",
    "from scipy.misc import imread, imsave, imresize\n",
    "%matplotlib inline"
   ]
  },
  {
   "cell_type": "code",
   "execution_count": 2,
   "metadata": {
    "collapsed": true
   },
   "outputs": [],
   "source": [
    "def load_CIFAR10(cifar10dir):\n",
    "    import pickle\n",
    "    files = ['data_batch_2', 'data_batch_3', 'data_batch_4', 'data_batch_5']\n",
    "    with open(cifar10dir + 'data_batch_1', 'rb') as fo:\n",
    "        db = pickle.load(fo, encoding='bytes')\n",
    "        Xtr = db[b'data']\n",
    "        Ytr = np.array(db[b'labels'], dtype=np.uint8)\n",
    "    for file in files:\n",
    "        with open(cifar10dir + file, 'rb') as fo:\n",
    "            db = pickle.load(fo, encoding='bytes')\n",
    "            Xtr = np.concatenate( ( Xtr, db[b'data'] ) )\n",
    "            Ytr = np.concatenate( ( Ytr, np.array(db[b'labels'], dtype=np.uint8) ) )\n",
    "    with open(cifar10dir + 'test_batch', 'rb') as fo:\n",
    "        db = pickle.load(fo, encoding='bytes')\n",
    "        Xte = db[b'data']\n",
    "        Yte = np.array(db[b'labels'], dtype=np.uint8)\n",
    "    \n",
    "    Xtr = np.reshape(Xtr, (Xtr.shape[0],32, 32, 3), 'F')\n",
    "    Xtr = np.swapaxes(Xtr, 1, 2)\n",
    "    \n",
    "    Xte = np.reshape(Xte, (Xte.shape[0],32, 32, 3), 'F')\n",
    "    Xte = np.swapaxes(Xte, 1, 2)\n",
    "    \n",
    "    with open(cifar10dir + 'batches.meta', 'rb') as fo:\n",
    "        meta = pickle.load(fo, encoding='bytes')\n",
    "        labelNames = meta[b'label_names']\n",
    "        for i in range(len(labelNames)):\n",
    "            labelNames[i] = labelNames[i].decode(\"utf-8\")\n",
    "    \n",
    "    \n",
    "    return Xtr, Ytr, Xte, Yte, labelNames"
   ]
  },
  {
   "cell_type": "code",
   "execution_count": 3,
   "metadata": {
    "collapsed": true
   },
   "outputs": [],
   "source": [
    "Xtr, Ytr, Xte, Yte, labelNames = load_CIFAR10('cifar-10-batches-py/')"
   ]
  },
  {
   "cell_type": "code",
   "execution_count": 4,
   "metadata": {},
   "outputs": [
    {
     "data": {
      "image/png": "[encoded data removed]",
      "text/plain": [
       "<matplotlib.figure.Figure at 0x7f430e854470>"
      ]
     },
     "metadata": {},
     "output_type": "display_data"
    }
   ],
   "source": [
    "idx=42\n",
    "plt.title(labelNames[Yte[idx]])\n",
    "plt.imshow(Xte[idx])\n",
    "plt.show()"
   ]
  },
  {
   "cell_type": "code",
   "execution_count": 5,
   "metadata": {
    "collapsed": true
   },
   "outputs": [],
   "source": [
    "Xtr_rows = Xtr.reshape(Xtr.shape[0], 32 * 32 * 3) # Xtr_rows becomes 50000 x 3072\n",
    "Xte_rows = Xte.reshape(Xte.shape[0], 32 * 32 * 3) # Xte_rows becomes 10000 x 3072"
   ]
  },
  {
   "cell_type": "code",
   "execution_count": 6,
   "metadata": {
    "collapsed": true
   },
   "outputs": [],
   "source": [
    "class NearestNeighbor(object):\n",
    "  def __init__(self):\n",
    "    pass\n",
    "\n",
    "  def train(self, X, y):\n",
    "    \"\"\" X is N x D where each row is an example. Y is 1-dimension of size N \"\"\"\n",
    "    # the nearest neighbor classifier simply remembers all the training data\n",
    "    self.Xtr = X\n",
    "    self.ytr = y\n",
    "\n",
    "  def predict(self, X):\n",
    "    \"\"\" X is N x D where each row is an example we wish to predict label for \"\"\"\n",
    "    num_test = X.shape[0]\n",
    "    # lets make sure that the output type matches the input type\n",
    "    Ypred = np.zeros(num_test, dtype = self.ytr.dtype)\n",
    "\n",
    "    # loop over all test rows\n",
    "    for i in range(num_test):\n",
    "      # find the nearest training image to the i'th test image\n",
    "      # using the L1 distance (sum of absolute value differences)\n",
    "      distances = np.sum(np.abs(self.Xtr - X[i,:]), axis = 1)\n",
    "      min_index = np.argmin(distances) # get the index with smallest distance\n",
    "      Ypred[i] = self.ytr[min_index] # predict the label of the nearest example\n",
    "\n",
    "    return Ypred"
   ]
  },
  {
   "cell_type": "raw",
   "metadata": {},
   "source": [
    "nn = NearestNeighbor() # create a Nearest Neighbor classifier class\n",
    "nn.train(Xtr_rows, Ytr) # train the classifier on the training images and labels\n",
    "Yte_predict = nn.predict(Xte_rows) # predict labels on the test images\n",
    "# and now print the classification accuracy, which is the average number\n",
    "# of examples that are correctly predicted (i.e. label matches)\n",
    "print('accuracy: %f' % ( np.mean(Yte_predict == Yte) ))"
   ]
  },
  {
   "cell_type": "markdown",
   "metadata": {},
   "source": [
    "#2 Linear classification: Support Vector Machine, Softmax "
   ]
  },
  {
   "cell_type": "code",
   "execution_count": 7,
   "metadata": {
    "collapsed": true
   },
   "outputs": [],
   "source": [
    "def L_i(x, y, W):\n",
    "    \"\"\"\n",
    "    unvectorized version. Compute the multiclass svm loss for a single example (x,y)\n",
    "    - x is a column vector representing an image (e.g. 3073 x 1 in CIFAR-10)\n",
    "    with an appended bias dimension in the 3073-rd position (i.e. bias trick)\n",
    "    - y is an integer giving index of correct class (e.g. between 0 and 9 in CIFAR-10)\n",
    "    - W is the weight matrix (e.g. 10 x 3073 in CIFAR-10)\n",
    "    \"\"\"\n",
    "    delta = 1.0 # see notes about delta later in this section\n",
    "    scores = W.dot(x) # scores becomes of size 10 x 1, the scores for each class\n",
    "    correct_class_score = scores[y]\n",
    "    D = W.shape[0] # number of classes, e.g. 10\n",
    "    loss_i = 0.0\n",
    "    for j in range(D): # iterate over all wrong classes\n",
    "        if j == y:\n",
    "            # skip for the true class to only loop over incorrect classes\n",
    "            continue\n",
    "        # accumulate loss for the i-th example\n",
    "        loss_i += max(0, scores[j] - correct_class_score + delta)\n",
    "    return loss_i"
   ]
  },
  {
   "cell_type": "code",
   "execution_count": 8,
   "metadata": {
    "collapsed": true
   },
   "outputs": [],
   "source": [
    "def L_i_vectorized(x, y, W):\n",
    "    \"\"\"\n",
    "    A faster half-vectorized implementation. half-vectorized\n",
    "    refers to the fact that for a single example the implementation contains\n",
    "    no for loops, but there is still one loop over the examples (outside this function)\n",
    "    \"\"\"\n",
    "    delta = 1.0\n",
    "    scores = W.dot(x)\n",
    "    # compute the margins for all classes in one vector operation\n",
    "    margins = np.maximum(0, scores - scores[y] + delta)\n",
    "    # on y-th position scores[y] - scores[y] canceled and gave delta. We want\n",
    "    # to ignore the y-th position and only consider margin on max wrong class\n",
    "    margins[y] = 0\n",
    "    loss_i = np.sum(margins)\n",
    "    return loss_i"
   ]
  },
  {
   "cell_type": "code",
   "execution_count": 9,
   "metadata": {
    "collapsed": true
   },
   "outputs": [],
   "source": [
    "def L(X, y, W):\n",
    "    \"\"\"\n",
    "    fully-vectorized implementation :\n",
    "    - X holds all the training examples as columns (e.g. 3073 x 50,000 in CIFAR-10)\n",
    "    - y is array of integers specifying correct class (e.g. 50,000-D array)\n",
    "    - W are weights (e.g. 10 x 3073)\n",
    "    \"\"\"\n",
    "    # evaluate loss over all examples in X without using any for loops\n",
    "    # left as exercise to reader in the assignment\n",
    "    delta = 1.0\n",
    "    N = len(y)\n",
    "    Nrange = range(N)\n",
    "    \n",
    "    all_scores=W.dot(X.T)\n",
    "    all_margins = np.maximum(0,all_scores-all_scores[y,Nrange]+delta)\n",
    "    all_margins[y,Nrange] = 0\n",
    "    loss = np.sum(all_margins)/N\n",
    "    \n",
    "    return loss"
   ]
  },
  {
   "cell_type": "code",
   "execution_count": 10,
   "metadata": {
    "collapsed": true
   },
   "outputs": [],
   "source": [
    "def R(W):\n",
    "    return np.sum(W**2)/2"
   ]
  },
  {
   "cell_type": "code",
   "execution_count": 11,
   "metadata": {
    "collapsed": true
   },
   "outputs": [],
   "source": [
    "Ws = np.array([[0.2,-0.5,0.1,2.0,1.1], [1.5,1.3,2.1,0.0,3.2], [0,0.25,0.2,-0.3,-1.2]], dtype='float64')\n",
    "X = np.array([[56,131,24,2,1],[54,6,86,4,1],[151,8,56,9,1],[7,156,46,64,1]], dtype='float64')\n",
    "y = np.array([0, 1, 2, 1])"
   ]
  },
  {
   "cell_type": "code",
   "execution_count": 12,
   "metadata": {
    "collapsed": true
   },
   "outputs": [],
   "source": [
    "def L_unoptimized(X, y, W):\n",
    "    L_i_vals = np.zeros(len(y))\n",
    "    for i in range(len(y)):\n",
    "        L_i_vals[i] = L_i(X[i],y[i],W)\n",
    "    return sum(L_i_vals)/len(y)"
   ]
  },
  {
   "cell_type": "code",
   "execution_count": 13,
   "metadata": {
    "collapsed": true
   },
   "outputs": [],
   "source": [
    "def L_halfoptimized(X, y, W):\n",
    "    L_i_vals = np.zeros(len(y))\n",
    "    for i in range(len(y)):\n",
    "        L_i_vals[i] = L_i_vectorized(X[i],y[i],W)\n",
    "    return sum(L_i_vals)/len(y)"
   ]
  },
  {
   "cell_type": "code",
   "execution_count": 14,
   "metadata": {},
   "outputs": [
    {
     "name": "stdout",
     "output_type": "stream",
     "text": [
      "207.8125\n",
      "10000 loops, best of 3: 38.7 µs per loop\n"
     ]
    }
   ],
   "source": [
    "print(L_unoptimized(X, y, Ws))\n",
    "%timeit -n 10000 L_unoptimized(X, y, Ws)"
   ]
  },
  {
   "cell_type": "code",
   "execution_count": 15,
   "metadata": {},
   "outputs": [
    {
     "name": "stdout",
     "output_type": "stream",
     "text": [
      "207.8125\n",
      "10000 loops, best of 3: 70.6 µs per loop\n"
     ]
    }
   ],
   "source": [
    "print(L_halfoptimized(X, y, Ws))\n",
    "%timeit -n 10000 L_halfoptimized(X, y, Ws)"
   ]
  },
  {
   "cell_type": "code",
   "execution_count": 16,
   "metadata": {},
   "outputs": [
    {
     "name": "stdout",
     "output_type": "stream",
     "text": [
      "207.8125\n",
      "10000 loops, best of 3: 47.9 µs per loop\n"
     ]
    }
   ],
   "source": [
    "print(L(X, y, Ws))\n",
    "%timeit -n 10000 L(X, y, Ws)"
   ]
  },
  {
   "cell_type": "markdown",
   "metadata": {},
   "source": [
    "#3 Optimization: Stochastic Gradient Descent"
   ]
  },
  {
   "cell_type": "code",
   "execution_count": 17,
   "metadata": {
    "collapsed": true
   },
   "outputs": [],
   "source": [
    "X_train = np.concatenate((Xtr_rows,np.ones([Xtr_rows.shape[0],1])),axis=1)\n",
    "Y_train = Ytr\n",
    "X_test = np.concatenate((Xte_rows,np.ones([Xte_rows.shape[0],1])),axis=1)"
   ]
  },
  {
   "cell_type": "code",
   "execution_count": 18,
   "metadata": {
    "collapsed": true
   },
   "outputs": [],
   "source": [
    "# assume X_train is the data where each column is an example (e.g. 3073 x 50,000)\n",
    "# assume Y_train are the labels (e.g. 1D array of 50,000)\n",
    "# assume the function L evaluates the loss function\n",
    "\n",
    "bestloss = float(\"inf\") # Python assigns the highest possible float value"
   ]
  },
  {
   "cell_type": "code",
   "execution_count": 19,
   "metadata": {},
   "outputs": [
    {
     "name": "stdout",
     "output_type": "stream",
     "text": [
      "in attempt 19 the loss was 9.614523, best 8.9925555\r"
     ]
    }
   ],
   "source": [
    "ld = 0.01\n",
    "for num in range(20):\n",
    "    Wr = np.random.randn(10, 3073) * 0.0001 # generate random parameters\n",
    "    loss = L(X_train, Y_train, Wr)+ld*R(Wr) # get the loss over the entire training set\n",
    "    if loss < bestloss: # keep track of the best solution\n",
    "        bestloss = loss\n",
    "        bestWr = Wr\n",
    "    print('in attempt %d the loss was %f, best %f' % (num, loss, bestloss), end='\\r')\n",
    "\n",
    "# prints:\n",
    "# in attempt 0 the loss was 9.401632, best 9.401632\n",
    "# in attempt 1 the loss was 8.959668, best 8.959668\n",
    "# in attempt 2 the loss was 9.044034, best 8.959668\n",
    "# in attempt 3 the loss was 9.278948, best 8.959668\n",
    "# in attempt 4 the loss was 8.857370, best 8.857370\n",
    "# in attempt 5 the loss was 8.943151, best 8.857370\n",
    "# in attempt 6 the loss was 8.605604, best 8.605604\n",
    "# ... (trunctated: continues for 1000 lines)"
   ]
  },
  {
   "cell_type": "code",
   "execution_count": 20,
   "metadata": {},
   "outputs": [
    {
     "data": {
      "text/plain": [
       "0.105"
      ]
     },
     "execution_count": 20,
     "metadata": {},
     "output_type": "execute_result"
    }
   ],
   "source": [
    "# Assume X_test is [3073 x 10000], Y_test [10000 x 1]\n",
    "scores = bestWr.dot(X_test.T) # 10 x 10000, the class scores for all test examples\n",
    "# find the index with max score in each column (the predicted class)\n",
    "Yte_predict = np.argmax(scores, axis = 0)\n",
    "# and calculate accuracy (fraction of predictions that are correct)\n",
    "np.mean(Yte_predict == Yte)\n",
    "# returns 0.1555"
   ]
  },
  {
   "cell_type": "code",
   "execution_count": 21,
   "metadata": {
    "collapsed": true
   },
   "outputs": [],
   "source": [
    "ld = 0.01\n",
    "Wr2 = np.random.randn(10, 3073) * 0.0001 # generate random starting W\n",
    "bestloss = float(\"inf\")"
   ]
  },
  {
   "cell_type": "code",
   "execution_count": 22,
   "metadata": {},
   "outputs": [
    {
     "name": "stdout",
     "output_type": "stream",
     "text": [
      "iter 19 loss is 9.397493\r"
     ]
    }
   ],
   "source": [
    "for i in range(20):\n",
    "    step_size = 0.00001\n",
    "    Wtry = Wr2 + np.random.randn(10, 3073) * step_size\n",
    "    loss = L(X_train, Y_train, Wtry)+ld*R(Wtry)\n",
    "    if loss < bestloss:\n",
    "        Wr2 = Wtry\n",
    "        bestloss = loss\n",
    "    print('iter %d loss is %f' % (i, bestloss), end='\\r')"
   ]
  },
  {
   "cell_type": "code",
   "execution_count": 23,
   "metadata": {},
   "outputs": [
    {
     "data": {
      "text/plain": [
       "0.10589999999999999"
      ]
     },
     "execution_count": 23,
     "metadata": {},
     "output_type": "execute_result"
    }
   ],
   "source": [
    "# Assume X_test is [3073 x 10000], Y_test [10000 x 1]\n",
    "scores = Wr2.dot(X_test.T) # 10 x 10000, the class scores for all test examples\n",
    "# find the index with max score in each column (the predicted class)\n",
    "Yte_predict = np.argmax(scores, axis = 0)\n",
    "# and calculate accuracy (fraction of predictions that are correct)\n",
    "np.mean(Yte_predict == Yte)\n",
    "# returns 0.1555"
   ]
  },
  {
   "cell_type": "code",
   "execution_count": 24,
   "metadata": {
    "collapsed": true
   },
   "outputs": [],
   "source": [
    "def eval_numerical_gradient(f, x):\n",
    "    \"\"\" \n",
    "    a naive implementation of numerical gradient of f at x \n",
    "    - f should be a function that takes a single argument\n",
    "    - x is the point (numpy array) to evaluate the gradient at\n",
    "    \"\"\" \n",
    "\n",
    "    fx = f(x) # evaluate function value at original point\n",
    "    grad = np.zeros(x.shape)\n",
    "    h = 0.00001\n",
    "\n",
    "    # iterate over all indexes in x\n",
    "    it = np.nditer(x, flags=['multi_index'], op_flags=['readwrite'])\n",
    "    while not it.finished:\n",
    "\n",
    "        # evaluate function at x+h\n",
    "        ix = it.multi_index\n",
    "        old_value = x[ix]\n",
    "        x[ix] = old_value + h # increment by h\n",
    "        fxh = f(x) # evalute f(x + h)\n",
    "        x[ix] = old_value # restore to previous value (very important!)\n",
    "\n",
    "        # compute the partial derivative\n",
    "        grad[ix] = (fxh - fx) / h # the slope\n",
    "        it.iternext() # step to next dimension\n",
    "\n",
    "    return grad"
   ]
  },
  {
   "cell_type": "code",
   "execution_count": 25,
   "metadata": {
    "collapsed": true
   },
   "outputs": [],
   "source": [
    "# to use the generic code above we want a function that takes a single argument\n",
    "# (the weights in our case) so we close over X_train and Y_train\n",
    "def CIFAR10_loss_fun(W):\n",
    "    return L(X_train, Y_train, W)"
   ]
  },
  {
   "cell_type": "code",
   "execution_count": 26,
   "metadata": {
    "collapsed": true
   },
   "outputs": [],
   "source": [
    "# For small expample before\n",
    "def dumb_loss_fun(W):\n",
    "    return L(X,y,W)"
   ]
  },
  {
   "cell_type": "raw",
   "metadata": {},
   "source": [
    "W = np.random.rand(10, 3073) * 0.001 # random weight vector"
   ]
  },
  {
   "cell_type": "code",
   "execution_count": 27,
   "metadata": {},
   "outputs": [
    {
     "name": "stdout",
     "output_type": "stream",
     "text": [
      "[[  9.75 -63.5    2.     1.25  -0.25]\n",
      " [ 51.75  34.75  20.     2.75   0.5 ]\n",
      " [-61.5   28.75 -22.    -4.    -0.25]]\n"
     ]
    }
   ],
   "source": [
    "df = eval_numerical_gradient(dumb_loss_fun, Ws) # get the gradient\n",
    "print(df)"
   ]
  },
  {
   "cell_type": "code",
   "execution_count": 28,
   "metadata": {
    "collapsed": true
   },
   "outputs": [],
   "source": [
    "def dL_halfvectorized(X, y, W):\n",
    "    delta = 1.0\n",
    "    N = len(y)\n",
    "    Nrange = range(N)\n",
    "    # This is less probably dead wrong\n",
    "    all_scores=W.dot(X.T)\n",
    "    indicator=((all_scores-all_scores[y,Nrange]+delta > 0).astype(np.float_))\n",
    "    indicator[y,Nrange] = 0\n",
    "    indicator=indicator.reshape(1,1,indicator.shape[0],indicator.shape[1])\n",
    "    krondelt_kj=np.eye(W.shape[0]).reshape(W.shape[0],1,W.shape[0],1)\n",
    "    krondelt_kyi=np.eye(W.shape[0])[y].T.reshape(W.shape[0],1,1,len(y))\n",
    "    x_li=X.T.reshape(1,X.T.shape[0],1,X.T.shape[1])\n",
    "    ikmk=indicator*(krondelt_kj-krondelt_kyi)\n",
    "    grad=np.zeros(W.shape)\n",
    "    \n",
    "#     Causes memory error in CIFAR10\n",
    "#     return np.sum(ikmk*x_li,axis=(2,3))/N\n",
    "    \n",
    "    for k in range(grad.shape[0]):\n",
    "        for j in range(grad.shape[0]):\n",
    "            grad[k,:] += np.sum(ikmk[k,0,j,:]*x_li[0,:,0,:],axis=1)\n",
    "#             print(\"Done with k = %d, j = %d\" % (k, j))\n",
    "    \n",
    "    return grad/N"
   ]
  },
  {
   "cell_type": "code",
   "execution_count": 29,
   "metadata": {
    "collapsed": true
   },
   "outputs": [],
   "source": [
    "def dL(X, y, W):\n",
    "    delta = 1.0\n",
    "    N = len(y)\n",
    "    Nrange = range(N)\n",
    "    # This is less probably dead wrong\n",
    "    all_scores=W.dot(X.T)\n",
    "    indicator=((all_scores-all_scores[y,Nrange]+delta > 0).astype(np.float_))\n",
    "    indicator[y,Nrange] = 0\n",
    "    indicator=indicator.reshape(1,1,indicator.shape[0],indicator.shape[1])\n",
    "    krondelt_kj=np.eye(W.shape[0]).reshape(W.shape[0],1,W.shape[0],1)\n",
    "    krondelt_kyi=np.eye(W.shape[0])[y].T.reshape(W.shape[0],1,1,len(y))\n",
    "    x_li=X.T.reshape(1,X.T.shape[0],1,X.T.shape[1])\n",
    "    \n",
    "#     Causes memory error in CIFAR10\n",
    "    return np.sum(indicator*(krondelt_kj-krondelt_kyi)*x_li,axis=(2,3))/N"
   ]
  },
  {
   "cell_type": "code",
   "execution_count": 30,
   "metadata": {
    "collapsed": true
   },
   "outputs": [],
   "source": [
    "def dR(W):\n",
    "    return W"
   ]
  },
  {
   "cell_type": "code",
   "execution_count": 31,
   "metadata": {},
   "outputs": [
    {
     "data": {
      "text/plain": [
       "array([[  9.75, -63.5 ,   2.  ,   1.25,  -0.25],\n",
       "       [ 51.75,  34.75,  20.  ,   2.75,   0.5 ],\n",
       "       [-61.5 ,  28.75, -22.  ,  -4.  ,  -0.25]])"
      ]
     },
     "execution_count": 31,
     "metadata": {},
     "output_type": "execute_result"
    }
   ],
   "source": [
    "dL(X, y, Ws)"
   ]
  },
  {
   "cell_type": "code",
   "execution_count": 32,
   "metadata": {},
   "outputs": [
    {
     "data": {
      "text/plain": [
       "array([[  9.75, -63.5 ,   2.  ,   1.25,  -0.25],\n",
       "       [ 51.75,  34.75,  20.  ,   2.75,   0.5 ],\n",
       "       [-61.5 ,  28.75, -22.  ,  -4.  ,  -0.25]])"
      ]
     },
     "execution_count": 32,
     "metadata": {},
     "output_type": "execute_result"
    }
   ],
   "source": [
    "dL_halfvectorized(X, y, Ws)"
   ]
  },
  {
   "cell_type": "code",
   "execution_count": 33,
   "metadata": {
    "collapsed": true
   },
   "outputs": [],
   "source": [
    "W = np.random.rand(10, 3073) * 0.0001 # random weight vector"
   ]
  },
  {
   "cell_type": "raw",
   "metadata": {},
   "source": [
    "dL_halfvectorized(X_train, Y_train, W)"
   ]
  },
  {
   "cell_type": "raw",
   "metadata": {},
   "source": [
    "# Vanilla Gradient Descent\n",
    "step_size = 0.0001\n",
    "for i in range(10):\n",
    "    W += - dL(X, y, W) * step_size\n",
    "    loss = L(X, y, W)\n",
    "    print('iter %d loss is %f' % (i, loss))"
   ]
  },
  {
   "cell_type": "code",
   "execution_count": 34,
   "metadata": {
    "collapsed": true
   },
   "outputs": [],
   "source": [
    "def sample_training_data(data, labels, samp):\n",
    "    selection = np.random.randint(low=data.shape[0],size=samp)\n",
    "    return data[selection,:], labels[selection]"
   ]
  },
  {
   "cell_type": "code",
   "execution_count": 35,
   "metadata": {
    "scrolled": true
   },
   "outputs": [
    {
     "name": "stdout",
     "output_type": "stream",
     "text": [
      "iter 9; batch loss is 63.747692 (loss is 68.878039)\r"
     ]
    }
   ],
   "source": [
    "# Vanilla Minibatch Gradient Descent\n",
    "ld = 0.001\n",
    "step_size = 0.000001\n",
    "for i in range(10):\n",
    "    data_batch, label_batch = sample_training_data(X_train, Y_train, 128) # sample 256 examples\n",
    "    W += - step_size * (dL(data_batch,label_batch,W) + ld*dR(W) ) # perform parameter update\n",
    "    loss = L(X_train, Y_train, W) + ld*R(W)\n",
    "    loss_batch = L(data_batch, label_batch, W) + ld*R(W)\n",
    "    print('iter %d; batch loss is %f (loss is %f)' % (i, loss_batch, loss), end='\\r')\n"
   ]
  },
  {
   "cell_type": "code",
   "execution_count": 36,
   "metadata": {
    "collapsed": true,
    "scrolled": false
   },
   "outputs": [],
   "source": [
    "def plot_CIFAR_linear_classes(W):\n",
    "    plt.figure(figsize=(16,7))\n",
    "    for idx in range(10):\n",
    "        plt.subplot(2,5,idx+1)\n",
    "        filt=np.copy(W[idx,0:3072])\n",
    "        filt-=np.min(filt)\n",
    "        filt/=np.max(filt)\n",
    "        filt*=255\n",
    "        filt=filt.astype(np.uint8)\n",
    "        filt=filt.reshape(32,32,3)\n",
    "        plt.title(labelNames[idx] + \"\\nb=\" + str(W[idx,3072]))\n",
    "        plt.imshow(filt)\n",
    "    plt.show()"
   ]
  },
  {
   "cell_type": "code",
   "execution_count": 37,
   "metadata": {},
   "outputs": [
    {
     "data": {
      "image/png": "[encoded data removed]",
      "text/plain": [
       "<matplotlib.figure.Figure at 0x7f42da1512b0>"
      ]
     },
     "metadata": {},
     "output_type": "display_data"
    }
   ],
   "source": [
    "plot_CIFAR_linear_classes(W)"
   ]
  },
  {
   "cell_type": "code",
   "execution_count": 38,
   "metadata": {},
   "outputs": [
    {
     "data": {
      "text/plain": [
       "0.1018"
      ]
     },
     "execution_count": 38,
     "metadata": {},
     "output_type": "execute_result"
    }
   ],
   "source": [
    "# Assume X_test is [3073 x 10000], Y_test [10000 x 1]\n",
    "scores = W.dot(X_test.T) # 10 x 10000, the class scores for all test examples\n",
    "# find the index with max score in each column (the predicted class)\n",
    "Yte_predict = np.argmax(scores, axis = 0)\n",
    "# and calculate accuracy (fraction of predictions that are correct)\n",
    "np.mean(Yte_predict == Yte)\n",
    "# returns 0.1555"
   ]
  },
  {
   "cell_type": "markdown",
   "metadata": {},
   "source": [
    "nolearn.lasagne implementation of previous model"
   ]
  },
  {
   "cell_type": "code",
   "execution_count": 39,
   "metadata": {},
   "outputs": [
    {
     "name": "stderr",
     "output_type": "stream",
     "text": [
      "Using cuDNN version 6021 on context None\n",
      "Mapped name None to device cuda0: GeForce GTX 1060 6GB (0000:01:00.0)\n"
     ]
    }
   ],
   "source": [
    "import theano\n",
    "import lasagne\n",
    "from lasagne import layers\n",
    "from lasagne.updates import sgd\n",
    "from nolearn.lasagne import NeuralNet\n",
    "from nolearn.lasagne import BatchIterator\n",
    "from nolearn.lasagne import TrainSplit"
   ]
  },
  {
   "cell_type": "code",
   "execution_count": 40,
   "metadata": {
    "collapsed": true,
    "scrolled": false
   },
   "outputs": [],
   "source": [
    "net1 = NeuralNet(\n",
    "    layers=[('input', layers.InputLayer),\n",
    "            ('output', layers.DenseLayer),\n",
    "            ],\n",
    "    # input layer(batch size, input dimensions)\n",
    "    input_shape=(128,3072),\n",
    "    # output\n",
    "    output_nonlinearity=lasagne.nonlinearities.linear,\n",
    "    output_W=lasagne.init.Uniform(range=(0,0.0001)),\n",
    "    output_b=lasagne.init.Uniform(range=(0,0.0001)), \n",
    "    output_num_units=10,\n",
    "    # optimization method params\n",
    "    batch_iterator_test=BatchIterator(batch_size=128,shuffle=True),\n",
    "    batch_iterator_train=BatchIterator(batch_size=128,shuffle=True),\n",
    "    train_split=TrainSplit(eval_size=0.0),\n",
    "    objective_loss_function = lasagne.objectives.multiclass_hinge_loss,\n",
    "    objective_l2 = 0.001,\n",
    "    update=sgd,\n",
    "    update_learning_rate=0.000001,\n",
    "    max_epochs=10,\n",
    "    verbose=1,\n",
    "    )"
   ]
  },
  {
   "cell_type": "code",
   "execution_count": 41,
   "metadata": {
    "scrolled": false
   },
   "outputs": [
    {
     "name": "stdout",
     "output_type": "stream",
     "text": [
      "# Neural Network with 30730 learnable parameters\n",
      "\n",
      "## Layer information\n",
      "\n",
      "  #  name      size\n",
      "---  ------  ------\n",
      "  0  input     3072\n",
      "  1  output      10\n",
      "\n",
      "  epoch    trn loss    val loss    trn/val    valid acc  dur\n",
      "-------  ----------  ----------  ---------  -----------  -----\n",
      "      1    \u001b[36m10.12938\u001b[0m         \u001b[32mnan\u001b[0m        nan          nan  1.27s\n",
      "      2     \u001b[36m7.63206\u001b[0m         \u001b[32mnan\u001b[0m        nan          nan  1.23s\n",
      "      3     7.68332         \u001b[32mnan\u001b[0m        nan          nan  1.21s\n",
      "      4     \u001b[36m7.00727\u001b[0m         \u001b[32mnan\u001b[0m        nan          nan  1.24s\n",
      "      5     7.06519         \u001b[32mnan\u001b[0m        nan          nan  1.21s\n",
      "      6     7.14182         \u001b[32mnan\u001b[0m        nan          nan  1.25s\n",
      "      7     \u001b[36m6.89415\u001b[0m         \u001b[32mnan\u001b[0m        nan          nan  1.22s\n",
      "      8     \u001b[36m6.80550\u001b[0m         \u001b[32mnan\u001b[0m        nan          nan  1.22s\n",
      "      9     \u001b[36m6.78950\u001b[0m         \u001b[32mnan\u001b[0m        nan          nan  1.22s\n",
      "     10     \u001b[36m6.66649\u001b[0m         \u001b[32mnan\u001b[0m        nan          nan  1.22s\n"
     ]
    }
   ],
   "source": [
    "nn = net1.fit(Xtr_rows,Ytr)"
   ]
  },
  {
   "cell_type": "code",
   "execution_count": 42,
   "metadata": {
    "collapsed": true
   },
   "outputs": [],
   "source": [
    "input_var = net1.layers_['input'].input_var\n",
    "output_layer = layers.get_output(net1.layers_['output'], deterministic=True)\n",
    "f_output = theano.function([input_var], output_layer)"
   ]
  },
  {
   "cell_type": "code",
   "execution_count": 43,
   "metadata": {
    "collapsed": true
   },
   "outputs": [],
   "source": [
    "def get_W_b_from_GPU(nnet,layer):\n",
    "    # Get theano GPU tensor reference from layer\n",
    "    gpuW = nnet.layers_[layer].W\n",
    "    gpub = nnet.layers_[layer].b\n",
    "    # Get data from GPU tensor to CPU tensor\n",
    "    cpuW = theano.gpuarray.basic_ops.host_from_gpu(gpuW)\n",
    "    cpub = theano.gpuarray.basic_ops.host_from_gpu(gpub)\n",
    "    # Evaluate CPU tensor to get numpy array\n",
    "    npyW = cpuW.eval()\n",
    "    npyb = cpub.eval()\n",
    "    return npyW, npyb"
   ]
  },
  {
   "cell_type": "code",
   "execution_count": 44,
   "metadata": {
    "collapsed": true
   },
   "outputs": [],
   "source": [
    "gW, gb = get_W_b_from_GPU(net1,'output')"
   ]
  },
  {
   "cell_type": "code",
   "execution_count": 45,
   "metadata": {
    "collapsed": true
   },
   "outputs": [],
   "source": [
    "gWb = np.concatenate((gW.T,gb.reshape(gb.shape[0],1)),axis=1)"
   ]
  },
  {
   "cell_type": "code",
   "execution_count": 46,
   "metadata": {
    "scrolled": false
   },
   "outputs": [
    {
     "data": {
      "image/png": "[encoded data removed]",
      "text/plain": [
       "<matplotlib.figure.Figure at 0x7f42383ba208>"
      ]
     },
     "metadata": {},
     "output_type": "display_data"
    }
   ],
   "source": [
    "plot_CIFAR_linear_classes(gWb)"
   ]
  },
  {
   "cell_type": "code",
   "execution_count": 47,
   "metadata": {
    "scrolled": true
   },
   "outputs": [
    {
     "name": "stdout",
     "output_type": "stream",
     "text": [
      "20 loops, best of 3: 193 ms per loop\n"
     ]
    }
   ],
   "source": [
    "# Benchmark lasagne speed\n",
    "%timeit -n 20 f_output(Xte_rows)"
   ]
  },
  {
   "cell_type": "code",
   "execution_count": 48,
   "metadata": {
    "scrolled": true
   },
   "outputs": [
    {
     "name": "stdout",
     "output_type": "stream",
     "text": [
      "20 loops, best of 3: 207 ms per loop\n"
     ]
    }
   ],
   "source": [
    "# Reference numpy speed\n",
    "%timeit -n 20 Xte_rows.dot(gW)+gb"
   ]
  },
  {
   "cell_type": "code",
   "execution_count": 49,
   "metadata": {},
   "outputs": [
    {
     "name": "stdout",
     "output_type": "stream",
     "text": [
      "20 loops, best of 3: 90 ms per loop\n"
     ]
    }
   ],
   "source": [
    "# Reference numpy speed with 1-padded test data\n",
    "# Lasagne not using Wx+b => [W,b][x,1]?\n",
    "%timeit -n 20 X_test.dot(gWb.T)"
   ]
  },
  {
   "cell_type": "code",
   "execution_count": 50,
   "metadata": {},
   "outputs": [
    {
     "name": "stdout",
     "output_type": "stream",
     "text": [
      "20 loops, best of 3: 174 ms per loop\n"
     ]
    }
   ],
   "source": [
    "# Using nolearn's predict_proba method\n",
    "%timeit -n 20 net1.predict_proba(Xte_rows)"
   ]
  },
  {
   "cell_type": "code",
   "execution_count": 51,
   "metadata": {
    "collapsed": true,
    "scrolled": true
   },
   "outputs": [],
   "source": [
    "def compare(a,b):\n",
    "    return np.mean(np.abs(a-b)/np.maximum(a,b))"
   ]
  },
  {
   "cell_type": "code",
   "execution_count": 52,
   "metadata": {},
   "outputs": [
    {
     "name": "stdout",
     "output_type": "stream",
     "text": [
      "True\n",
      "False\n",
      "False\n",
      "True\n"
     ]
    }
   ],
   "source": [
    "print(np.allclose(f_output(Xte_rows),Xte_rows.dot(gW)+gb))\n",
    "print(np.allclose(X_test.dot(gWb.T),Xte_rows.dot(gW)+gb))\n",
    "print(np.allclose(X_test.dot(gWb.T),f_output(Xte_rows)))\n",
    "print(np.allclose(net1.predict_proba(Xte_rows),f_output(Xte_rows)))"
   ]
  },
  {
   "cell_type": "code",
   "execution_count": 53,
   "metadata": {
    "scrolled": true
   },
   "outputs": [
    {
     "data": {
      "text/plain": [
       "0.099900000000000003"
      ]
     },
     "execution_count": 53,
     "metadata": {},
     "output_type": "execute_result"
    }
   ],
   "source": [
    "# scores = Xte_rows.dot(gW)+gb # f_output(X_test)\n",
    "Yte_predict = net1.predict(Xte_rows) # np.argmax(scores, axis = 1)\n",
    "np.mean(Yte_predict == Yte)"
   ]
  },
  {
   "cell_type": "markdown",
   "metadata": {},
   "source": [
    "#4 Backpropagation, Intuitions"
   ]
  },
  {
   "cell_type": "code",
   "execution_count": 54,
   "metadata": {
    "collapsed": true
   },
   "outputs": [],
   "source": [
    "import math"
   ]
  },
  {
   "cell_type": "code",
   "execution_count": 55,
   "metadata": {},
   "outputs": [
    {
     "name": "stdout",
     "output_type": "stream",
     "text": [
      "0.7310585786300049\n",
      "[-0.19661193324148185, -0.3932238664829637, 0.19661193324148185]\n",
      "[0.3932238664829637, -0.5898357997244456]\n"
     ]
    }
   ],
   "source": [
    "w = [2,-3,-3] # assume some random weights and data\n",
    "x = [-1, -2]\n",
    "\n",
    "# forward pass\n",
    "dot = w[0]*x[0] + w[1]*x[1] + w[2]\n",
    "f = 1.0 / (1 + math.exp(-dot)) # sigmoid function\n",
    "\n",
    "# backward pass through the neuron (backpropagation)\n",
    "ddot = (1 - f) * f # gradient on dot variable, using the sigmoid gradient derivation\n",
    "dx = [w[0] * ddot, w[1] * ddot] # backprop into x\n",
    "dw = [x[0] * ddot, x[1] * ddot, 1.0 * ddot] # backprop into w\n",
    "# we're done! we have the gradients on the inputs to the circuit\n",
    "\n",
    "print(f)\n",
    "print(dw)\n",
    "print(dx)"
   ]
  },
  {
   "cell_type": "code",
   "execution_count": null,
   "metadata": {
    "collapsed": true
   },
   "outputs": [],
   "source": []
  }
 ],
 "metadata": {
  "kernelspec": {
   "display_name": "Python 3",
   "language": "python",
   "name": "python3"
  },
  "language_info": {
   "codemirror_mode": {
    "name": "ipython",
    "version": 3
   },
   "file_extension": ".py",
   "mimetype": "text/x-python",
   "name": "python",
   "nbconvert_exporter": "python",
   "pygments_lexer": "ipython3",
   "version": "3.6.1"
  }
 },
 "nbformat": 4,
 "nbformat_minor": 2
}
